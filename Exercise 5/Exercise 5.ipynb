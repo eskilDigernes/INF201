{
 "cells": [
  {
   "cell_type": "markdown",
   "metadata": {},
   "source": [
    "# INF201 Exercise 5\n",
    "\n",
    "\n",
    "**Fill out group member info and NMBU-emails.**. Only **one member has to upload a .ipynb and .pdf file to Canvas**.\n",
    "\n",
    "**name_1**: My partner left, will find a new one next time \\\n",
    "**name_2**: Eskil Digernes \\\n",
    "**nmbu_email_1**: fill out 1st member's NMBU-email here \\\n",
    "**nmbu_email_2**: eskil.digernes@nmbu.no"
   ]
  },
  {
   "cell_type": "code",
   "execution_count": 4,
   "metadata": {},
   "outputs": [
    {
     "name": "stdout",
     "output_type": "stream",
     "text": [
      "\n",
      "\n",
      "Output of the Neural Network (yL): [4316495.93676052 4200292.01227061 4894418.40115919 3899093.0042812\n",
      " 4576604.24801048 4552419.16356319 4152029.62813902 4423007.22952265\n",
      " 4346411.57203485 4611768.49981845]\n",
      "\n",
      "\n",
      "Dimensions of weight matrix W1: (128, 64)\n",
      "Dimensions of weight matrix W2: (128, 128)\n",
      "Dimensions of weight matrix W3: (128, 128)\n",
      "Dimensions of weight matrix W4: (10, 128)\n"
     ]
    }
   ],
   "source": [
    "import numpy as np\n",
    "from copy import deepcopy\n",
    "\n",
    "# relu activation function\n",
    "def relu(x):\n",
    "    return np.maximum(0, x)\n",
    "\n",
    "# 1: single layer neural network\n",
    "def single_layer(x, W1, b1):\n",
    "    return relu(W1@x + b1)\n",
    "\n",
    "# 2: two layer neural network\n",
    "def two_layer(x, W1, b1, W2, b2):\n",
    "    y1 = single_layer(x, W1, b1)\n",
    "    y2 = single_layer(y1, W2, b2)\n",
    "    return y2\n",
    "\n",
    "# 3: L-layer neural network\n",
    "def multi_layer(x, W, b, L):\n",
    "    y = deepcopy(x)  # Initialize y\n",
    "    for l in range(L):\n",
    "        y = relu(W[l]@ y + b[l])\n",
    "    return y\n",
    "\n",
    "# 4: output and dimensionality\n",
    "def print_output_and_dims(yL, W, L):\n",
    "    print(\"Output of the Neural Network (yL):\", yL)\n",
    "    print(\"\\n\")\n",
    "    for l in range(L):\n",
    "        print(f\"Dimensions of weight matrix W{l+1}: {W[l].shape}\")\n",
    "\n",
    "# Example usage\n",
    "n = [64, 128, 128, 128, 10]  # Layers definition\n",
    "\n",
    "# use random numbers in all matrices and vectors...\n",
    "W = [np.random.rand(n[i+1], n[i]) for i in range(len(n)-1)] \n",
    "x = np.random.rand(n[0])  \n",
    "b = [np.random.rand(n[i+1]) for i in range(len(n)-1)]  \n",
    "\n",
    "L = len(n) - 1  # Total number of layers\n",
    "\n",
    "# using single-layer \n",
    "y1 = single_layer(x, W[0], b[0])\n",
    "# print(\"Output of Single Layer:\", y1)\n",
    "# print(\"\\n\")\n",
    "\n",
    "# using two-layer \n",
    "y2 = two_layer(x, W[0], b[0], W[1], b[1])\n",
    "# print(\"Output of Two Layer:\", y2)\n",
    "# print(\"\\n\")\n",
    "\n",
    "# using multi-layer\n",
    "yL = multi_layer(x, W, b, L)\n",
    "print(\"\\n\")\n",
    "\n",
    "# Printing output and dimensions\n",
    "print_output_and_dims(yL, W, L)\n"
   ]
  }
 ],
 "metadata": {
  "kernelspec": {
   "display_name": "Python 3",
   "language": "python",
   "name": "python3"
  },
  "language_info": {
   "codemirror_mode": {
    "name": "ipython",
    "version": 3
   },
   "file_extension": ".py",
   "mimetype": "text/x-python",
   "name": "python",
   "nbconvert_exporter": "python",
   "pygments_lexer": "ipython3",
   "version": "3.10.11"
  },
  "orig_nbformat": 4
 },
 "nbformat": 4,
 "nbformat_minor": 2
}
