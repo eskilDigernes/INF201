{
 "cells": [
  {
   "cell_type": "markdown",
   "metadata": {},
   "source": [
    "# INF201 Exercise 3\n",
    "\n",
    "\n",
    "**Fill out group member info and NMBU-emails.**. Only **one member has to upload a .ipynb and .pdf file to Canvas**.\n",
    "\n",
    "**name_1**: fill out 1st member's name here \\\n",
    "**name_2**: Eskil Digernes \\\n",
    "**nmbu_email_1**: fill out 1st member's NMBU-email here \\\n",
    "**nmbu_email_2**: eskil.digernes@nmbu.no"
   ]
  },
  {
   "cell_type": "code",
   "execution_count": 15,
   "metadata": {},
   "outputs": [
    {
     "name": "stdout",
     "output_type": "stream",
     "text": [
      "[{'age': 24, 'name': 'Per', 'phone': '12345678'},\n",
      " {'age': 23, 'name': 'Kari', 'phone': '23456789'},\n",
      " {'age': 24, 'name': 'Ole', 'phone': '34567891'}]\n"
     ]
    }
   ],
   "source": [
    "from pprint import pprint \n",
    "\n",
    "# creat function to open file and read data\n",
    "def read_student_info(file_name):\n",
    "    students = []\n",
    "\n",
    "    # open file and read data\n",
    "    with open(file_name, 'r') as f:\n",
    "        for line in f:\n",
    "            # remove whitespace\n",
    "            line = line.strip()\n",
    "            # check if line is not empty and not comment\n",
    "            if line and not line.startswith('#'):\n",
    "                # split line by colon\n",
    "                name, details = line.split(':')\n",
    "                # split details by comma\n",
    "                age, phone = details.split(',')\n",
    "                # create dictionary\n",
    "                student_dict = {\n",
    "                    'name': name,\n",
    "                    'age': int(age),\n",
    "                    'phone': phone\n",
    "                }\n",
    "                students.append(student_dict)\n",
    "    return students\n",
    "\n",
    "# test function with example file from canvas\n",
    "file_name = \"students.txt\"\n",
    "students_info = read_student_info(file_name)\n",
    "\n",
    "# print dictionary in structured way \n",
    "pprint(students_info)\n"
   ]
  },
  {
   "cell_type": "code",
   "execution_count": 16,
   "metadata": {},
   "outputs": [
    {
     "name": "stdout",
     "output_type": "stream",
     "text": [
      "c:\\Users\\eskil\\OneDrive\\Skrivebord\\INF201\\Exercise 3\\dummy.py: ['re']\n",
      "c:\\Users\\eskil\\OneDrive\\Skrivebord\\INF201\\Exercise 3\\dummy.py: ['pathlib']\n"
     ]
    }
   ],
   "source": [
    "import re\n",
    "from pathlib import Path\n",
    "\n",
    "# function to extract imports from *.py in current directory\n",
    "def extract_imports(file_path):\n",
    "    with open(file_path, 'r') as f:\n",
    "        content = f.readlines()\n",
    "\n",
    "    # regex patterns\n",
    "    import_pattern = re.compile(r'^import (\\w+)')\n",
    "    from_pattern = re.compile(r'^from (\\w+)')\n",
    "\n",
    "    # list to store imports\n",
    "    imports = []\n",
    "\n",
    "    # check each line for import or from\n",
    "    for line in content:\n",
    "        match_import = import_pattern.search(line)\n",
    "        match_from = from_pattern.search(line)\n",
    "        if match_import:\n",
    "            imports.append(match_import.group(1))\n",
    "        if match_from:\n",
    "            imports.append(match_from.group(1))\n",
    "    return imports\n",
    "\n",
    "# function to display imports\n",
    "def display_imports(py_file, imports):\n",
    "    for imp in imports:\n",
    "        print(f\"{py_file.absolute()}: ['{imp}']\")\n",
    "\n",
    "# check all .py files in the current directory\n",
    "current_directory = Path('.')\n",
    "python_files = list(current_directory.glob('*.py'))\n",
    "\n",
    "for py_file in python_files:\n",
    "    imports = extract_imports(py_file)\n",
    "    if imports:\n",
    "        display_imports(py_file, imports)\n"
   ]
  }
 ],
 "metadata": {
  "kernelspec": {
   "display_name": "Python 3",
   "language": "python",
   "name": "python3"
  },
  "language_info": {
   "codemirror_mode": {
    "name": "ipython",
    "version": 3
   },
   "file_extension": ".py",
   "mimetype": "text/x-python",
   "name": "python",
   "nbconvert_exporter": "python",
   "pygments_lexer": "ipython3",
   "version": "3.10.11"
  },
  "orig_nbformat": 4
 },
 "nbformat": 4,
 "nbformat_minor": 2
}
