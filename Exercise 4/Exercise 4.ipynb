{
 "cells": [
  {
   "cell_type": "code",
   "execution_count": 1,
   "metadata": {},
   "outputs": [
    {
     "name": "stdout",
     "output_type": "stream",
     "text": [
      "projects\\exercise_1\n",
      "projects\\exercise_2\n",
      "projects\\exercise_3a\n",
      "projects\\exercise_3b\n",
      "projects\\exercise_4a\n",
      "projects\\exercise_4b\n",
      "projects\\exercise_1\\Ole\n",
      "projects\\exercise_1\\Sarah\n",
      "projects\\exercise_2\\Ole\n",
      "projects\\exercise_2\\Sarah\n",
      "projects\\exercise_3a\\Ole\n",
      "projects\\exercise_3a\\Sarah\n",
      "projects\\exercise_3b\\Ole\n",
      "projects\\exercise_3b\\Sarah\n",
      "projects\\exercise_4a\\Ole\n",
      "projects\\exercise_4a\\Sarah\n",
      "projects\\exercise_4b\\Ole\n",
      "projects\\exercise_4b\\Sarah\n"
     ]
    }
   ],
   "source": [
    "from pathlib import Path\n",
    "\n",
    "# 1: create function that makes list\n",
    "def create_exercises(total_number, project_assignments_start):\n",
    "    return [f\"{i}{suffix}\" for i in range(1, total_number + 1) \n",
    "            for suffix in ['', 'a', 'b'] if (i < project_assignments_start and suffix == '') \n",
    "            or (i >= project_assignments_start and suffix in ['a', 'b'])]\n",
    "\n",
    "# 2: list of students\n",
    "students = [\"Ole\", \"Sarah\"]\n",
    "\n",
    "# 3: create folder function\n",
    "def create_folders(exercises, students):\n",
    "    for exercise in exercises:\n",
    "        for i in exercise.split():\n",
    "            for student in students:\n",
    "                path = Path(f\"projects/exercise_{i}/{student}\") \n",
    "                path.mkdir(parents=True, exist_ok=True)\n",
    "\n",
    "# 4: print structure function\n",
    "def print_structure():\n",
    "    base_path = Path(\"projects\")\n",
    "    for folder in base_path.rglob('*'):\n",
    "        print(folder)\n",
    "\n",
    "exercises = create_exercises(total_number=4, project_assignments_start=3)\n",
    "create_folders(exercises, students)\n",
    "print_structure()"
   ]
  }
 ],
 "metadata": {
  "kernelspec": {
   "display_name": "Python 3",
   "language": "python",
   "name": "python3"
  },
  "language_info": {
   "codemirror_mode": {
    "name": "ipython",
    "version": 3
   },
   "file_extension": ".py",
   "mimetype": "text/x-python",
   "name": "python",
   "nbconvert_exporter": "python",
   "pygments_lexer": "ipython3",
   "version": "3.10.11"
  },
  "orig_nbformat": 4
 },
 "nbformat": 4,
 "nbformat_minor": 2
}
