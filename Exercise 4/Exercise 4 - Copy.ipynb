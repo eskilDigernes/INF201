{
 "cells": [
  {
   "cell_type": "markdown",
   "metadata": {},
   "source": [
    "# INF201 Exercise 4\n",
    "\n",
    "\n",
    "**Fill out group member info and NMBU-emails.**. Only **one member has to upload a .ipynb and .pdf file to Canvas**.\n",
    "\n",
    "**name_1**: Caroline Sunniva Svortdal \\\n",
    "**name_2**: Eskil Digernes \\\n",
    "**nmbu_email_1**: caroline.sunniva.svortdal@nmbu.no \\\n",
    "**nmbu_email_2**: eskil.digernes@nmbu.no"
   ]
  },
  {
   "cell_type": "code",
   "execution_count": 3,
   "metadata": {},
   "outputs": [
    {
     "name": "stdout",
     "output_type": "stream",
     "text": [
      "projects\\\n",
      "projects\\exercise_1\n",
      "projects\\exercise_1\\Ole\n",
      "projects\\exercise_1\\Sarah\n",
      "projects\\exercise_2\n",
      "projects\\exercise_2\\Ole\n",
      "projects\\exercise_2\\Sarah\n",
      "projects\\exercise_3a\n",
      "projects\\exercise_3a\\Ole\n",
      "projects\\exercise_3a\\Sarah\n",
      "projects\\exercise_3b\n",
      "projects\\exercise_3b\\Ole\n",
      "projects\\exercise_3b\\Sarah\n",
      "projects\\exercise_4a\n",
      "projects\\exercise_4a\\Ole\n",
      "projects\\exercise_4a\\Sarah\n",
      "projects\\exercise_4b\n",
      "projects\\exercise_4b\\Ole\n",
      "projects\\exercise_4b\\Sarah\n"
     ]
    }
   ],
   "source": [
    "# write a program that creates folders \n",
    "# from a list of exercises and a list of students\n",
    "\n",
    "import os\n",
    "import glob\n",
    "\n",
    "# 1: Create a list of exercises with two arguments\n",
    "def create_exercises(total_number, project_assignments_start):\n",
    "    return [f\"{i}\" if i < project_assignments_start else f\"{i}a {i}b\" for i in range(1, total_number + 1)]     \n",
    "\n",
    "# 2: list of students\n",
    "students = [\"Ole\", \"Sarah\"]\n",
    "\n",
    "\n",
    "# 3: create folders \n",
    "def create_folders(exercises, students):\n",
    "    for exercise in exercises:\n",
    "        for i in exercise.split():\n",
    "            for student in students:\n",
    "                path = f\"projects/exercise_{i}/{student}\" \n",
    "                if not os.path.exists(path):\n",
    "                    os.makedirs(path)\n",
    "\n",
    "\n",
    "# 4: print out file structure\n",
    "def print_structure():\n",
    "    for folder in glob.glob(\"projects/**\", recursive=True):\n",
    "        print(folder)\n",
    "\n",
    "\n",
    "exercises = create_exercises(total_number=4, project_assignments_start=3)\n",
    "create_folders(exercises, students)\n",
    "print_structure()\n",
    "#print(generate_exercise_list(4, 3))\n"
   ]
  }
 ],
 "metadata": {
  "kernelspec": {
   "display_name": "Python 3",
   "language": "python",
   "name": "python3"
  },
  "language_info": {
   "codemirror_mode": {
    "name": "ipython",
    "version": 3
   },
   "file_extension": ".py",
   "mimetype": "text/x-python",
   "name": "python",
   "nbconvert_exporter": "python",
   "pygments_lexer": "ipython3",
   "version": "3.10.11"
  },
  "orig_nbformat": 4
 },
 "nbformat": 4,
 "nbformat_minor": 2
}
