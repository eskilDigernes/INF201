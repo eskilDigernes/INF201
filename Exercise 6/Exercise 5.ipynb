{
 "cells": [
  {
   "cell_type": "markdown",
   "metadata": {},
   "source": [
    "# INF201 Exercise 6\n",
    "\n",
    "\n",
    "**Fill out group member info and NMBU-emails.**. Only **one member has to upload a .ipynb and .pdf file to Canvas**.\n",
    "\n",
    "**name_1**:  \\\n",
    "**name_2**: Eskil Digernes \\\n",
    "**nmbu_email_1**: \\\n",
    "**nmbu_email_2**: eskil.digernes@nmbu.no"
   ]
  },
  {
   "cell_type": "code",
   "execution_count": null,
   "metadata": {},
   "outputs": [],
   "source": []
  }
 ],
 "metadata": {
  "kernelspec": {
   "display_name": "Python 3",
   "language": "python",
   "name": "python3"
  },
  "language_info": {
   "codemirror_mode": {
    "name": "ipython",
    "version": 3
   },
   "file_extension": ".py",
   "mimetype": "text/x-python",
   "name": "python",
   "nbconvert_exporter": "python",
   "pygments_lexer": "ipython3",
   "version": "3.10.11"
  },
  "orig_nbformat": 4
 },
 "nbformat": 4,
 "nbformat_minor": 2
}
